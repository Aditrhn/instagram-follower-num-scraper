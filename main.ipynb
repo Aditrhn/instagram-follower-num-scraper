{
 "cells": [
  {
   "cell_type": "markdown",
   "metadata": {},
   "source": [
    "### Import Library\n",
    "Import library yang akan digunakan dalam project ini"
   ]
  },
  {
   "cell_type": "code",
   "execution_count": 25,
   "metadata": {},
   "outputs": [],
   "source": [
    "from selenium import webdriver\n",
    "from bs4 import BeautifulSoup\n",
    "import re\n",
    "import pandas as pd"
   ]
  },
  {
   "cell_type": "markdown",
   "metadata": {},
   "source": [
    "### Main Script\n",
    "Script utama yang akan kita gunakan dalam project kali ini"
   ]
  },
  {
   "cell_type": "code",
   "execution_count": 26,
   "metadata": {},
   "outputs": [],
   "source": [
    "# Buat beberapa list yang akan kita gunakan seperti username, names, account, followers, dan followings\n",
    "username = ['bankbri_id', 'lifeatbri', 'narasiodata']\n",
    "names = []\n",
    "accounts = []\n",
    "followers = []\n",
    "followings = []\n",
    "\n",
    "# Pattern regex untuk mengambil nama pemilik akun\n",
    "pattern = r'^([^()]+)'\n",
    "\n",
    "for uname in username:\n",
    "    # Menajalankan webdriver dan membuka link akun\n",
    "    browser = webdriver.Edge()\n",
    "    browser.get('https://www.instagram.com/'+uname)\n",
    "    Pagelength = browser.execute_script(\"window.scrollTo(0, document.body.scrollHeight);\")\n",
    "\n",
    "    # Mengambil sumber html dan melakukan parsing menggunakan BeautifulSoup\n",
    "    source = browser.page_source\n",
    "    data = BeautifulSoup(source, 'html.parser')\n",
    "\n",
    "    # Mengambil data nama pemilik akun dari tag <meta> dengan property 'og:title'\n",
    "    title = data.find('meta', property='og:title').get('content')\n",
    "    # Mengambil data nama pemiliki menggunakan regex\n",
    "    name = re.match(pattern, title).group().rstrip()\n",
    "    names.append(name)\n",
    "\n",
    "    # Mengambil informasi follower, following, serta beberapa deskripsi dari akun\n",
    "    desc = data.find('meta', property='og:description').get('content').split(',')\n",
    "    \n",
    "    accounts.append('https://www.instagram.com/'+uname)\n",
    "    followers.append(desc[0])\n",
    "    followings.append(desc[1])\n",
    "\n",
    "# Membentuk dataframe yang berisi informasi akun yang telah di scrape\n",
    "data = {'Name':names, 'Instagram_account':accounts, 'Follower':followers, 'Following':followings}\n",
    "df = pd.DataFrame(data)\n",
    "\n",
    "browser.close()"
   ]
  },
  {
   "cell_type": "code",
   "execution_count": 27,
   "metadata": {},
   "outputs": [
    {
     "data": {
      "text/html": [
       "<div>\n",
       "<style scoped>\n",
       "    .dataframe tbody tr th:only-of-type {\n",
       "        vertical-align: middle;\n",
       "    }\n",
       "\n",
       "    .dataframe tbody tr th {\n",
       "        vertical-align: top;\n",
       "    }\n",
       "\n",
       "    .dataframe thead th {\n",
       "        text-align: right;\n",
       "    }\n",
       "</style>\n",
       "<table border=\"1\" class=\"dataframe\">\n",
       "  <thead>\n",
       "    <tr style=\"text-align: right;\">\n",
       "      <th></th>\n",
       "      <th>Name</th>\n",
       "      <th>Instagram_account</th>\n",
       "      <th>Follower</th>\n",
       "      <th>Following</th>\n",
       "    </tr>\n",
       "  </thead>\n",
       "  <tbody>\n",
       "    <tr>\n",
       "      <th>0</th>\n",
       "      <td>BANK BRI</td>\n",
       "      <td>https://www.instagram.com/bankbri_id</td>\n",
       "      <td>1M followers</td>\n",
       "      <td>29 following</td>\n",
       "    </tr>\n",
       "    <tr>\n",
       "      <th>1</th>\n",
       "      <td>Life at BRI</td>\n",
       "      <td>https://www.instagram.com/lifeatbri</td>\n",
       "      <td>139K followers</td>\n",
       "      <td>105 following</td>\n",
       "    </tr>\n",
       "    <tr>\n",
       "      <th>2</th>\n",
       "      <td>NARASIO DATA</td>\n",
       "      <td>https://www.instagram.com/narasiodata</td>\n",
       "      <td>23K followers</td>\n",
       "      <td>8 following</td>\n",
       "    </tr>\n",
       "  </tbody>\n",
       "</table>\n",
       "</div>"
      ],
      "text/plain": [
       "           Name                      Instagram_account        Follower  \\\n",
       "0      BANK BRI   https://www.instagram.com/bankbri_id    1M followers   \n",
       "1   Life at BRI    https://www.instagram.com/lifeatbri  139K followers   \n",
       "2  NARASIO DATA  https://www.instagram.com/narasiodata   23K followers   \n",
       "\n",
       "        Following  \n",
       "0    29 following  \n",
       "1   105 following  \n",
       "2     8 following  "
      ]
     },
     "execution_count": 27,
     "metadata": {},
     "output_type": "execute_result"
    }
   ],
   "source": [
    "df.head()"
   ]
  }
 ],
 "metadata": {
  "kernelspec": {
   "display_name": "env",
   "language": "python",
   "name": "python3"
  },
  "language_info": {
   "codemirror_mode": {
    "name": "ipython",
    "version": 3
   },
   "file_extension": ".py",
   "mimetype": "text/x-python",
   "name": "python",
   "nbconvert_exporter": "python",
   "pygments_lexer": "ipython3",
   "version": "3.11.3"
  },
  "orig_nbformat": 4
 },
 "nbformat": 4,
 "nbformat_minor": 2
}
